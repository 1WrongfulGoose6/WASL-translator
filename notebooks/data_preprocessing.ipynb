{
 "cells": [
  {
   "cell_type": "markdown",
   "id": "2d74d088",
   "metadata": {},
   "source": [
    "#### Optional Code for running in Collab"
   ]
  },
  {
   "cell_type": "code",
   "execution_count": null,
   "id": "e901d128",
   "metadata": {},
   "outputs": [],
   "source": [
    "from google.colab import drive\n",
    "drive.mount('/content/drive')"
   ]
  },
  {
   "cell_type": "code",
   "execution_count": null,
   "id": "e0084971",
   "metadata": {},
   "outputs": [],
   "source": [
    "import os\n",
    "\n",
    "# Path to your project folder in Drive\n",
    "project_path = '/content/drive/MyDrive/WASL-translator'\n",
    "\n",
    "# Change working directory\n",
    "os.chdir(project_path)\n",
    "\n",
    "# Confirm structure\n",
    "print(\"Current working dir:\", os.getcwd())\n",
    "!ls -R data/raw | head -20"
   ]
  },
  {
   "cell_type": "markdown",
   "id": "632540cb",
   "metadata": {},
   "source": [
    "##### For pulling new changes"
   ]
  },
  {
   "cell_type": "code",
   "execution_count": null,
   "id": "4b0f8ad8",
   "metadata": {},
   "outputs": [],
   "source": [
    "!cd /content/drive/MyDrive/WASL-translator && git pull"
   ]
  },
  {
   "cell_type": "markdown",
   "id": "3a4ccd56",
   "metadata": {},
   "source": [
    "### 1. Load the dataset \n",
    "Loaded from .../data/raw/"
   ]
  },
  {
   "cell_type": "code",
   "execution_count": 1,
   "id": "a180185c",
   "metadata": {},
   "outputs": [
    {
     "name": "stdout",
     "output_type": "stream",
     "text": [
      "Loading A...\n",
      "Loading B...\n",
      "Loading C...\n",
      "Loading D...\n",
      "Loading del...\n",
      "Loading E...\n",
      "Loading F...\n",
      "Loading G...\n",
      "Loading H...\n",
      "Loading I...\n",
      "Loading J...\n",
      "Loading K...\n",
      "Loading L...\n",
      "Loading M...\n",
      "Loading N...\n",
      "Loading nothing...\n",
      "Loading O...\n",
      "Loading P...\n",
      "Loading Q...\n",
      "Loading R...\n",
      "Loading S...\n",
      "Loading space...\n",
      "Loading T...\n",
      "Loading U...\n",
      "Loading V...\n",
      "Loading W...\n",
      "Loading X...\n",
      "Loading Y...\n",
      "Loading Z...\n",
      "Loaded 87000 training images across 29 classes.\n",
      "Loaded 28 test images across 28 labels.\n",
      "Loaded dataset_loader from: e:\\Ashwin\\importantFiles\\Programming Projects\\WASL-translator\\src\\utils\\dataset_loader.py\n",
      "Train label set: ['a', 'b', 'c', 'd', 'del', 'e', 'f', 'g', 'h', 'i', 'j', 'k', 'l', 'm', 'n', 'nothing', 'o', 'p', 'q', 'r', 's', 'space', 't', 'u', 'v', 'w', 'x', 'y', 'z']\n",
      "Test label set: ['a', 'b', 'c', 'd', 'e', 'f', 'g', 'h', 'i', 'j', 'k', 'l', 'm', 'n', 'nothing', 'o', 'p', 'q', 'r', 's', 'space', 't', 'u', 'v', 'w', 'x', 'y', 'z']\n",
      "Unseen in test: set()\n"
     ]
    }
   ],
   "source": [
    "# Import dataset loader (Debug version)\n",
    "import sys, os\n",
    "sys.path.append(os.path.abspath(\"../src\"))\n",
    "from utils import dataset_loader\n",
    "import importlib\n",
    "importlib.reload(dataset_loader)\n",
    "\n",
    "X_train, y_train, X_test, y_test = dataset_loader.load_dataset(\"../data/raw\", debug=False)\n"
   ]
  },
  {
   "cell_type": "code",
   "execution_count": 2,
   "id": "1a302882",
   "metadata": {},
   "outputs": [
    {
     "name": "stdout",
     "output_type": "stream",
     "text": [
      "Loading A...\n",
      "Loading B...\n",
      "Loading C...\n",
      "Loading D...\n",
      "Loading del...\n",
      "Loading E...\n",
      "Loading F...\n",
      "Loading G...\n",
      "Loading H...\n",
      "Loading I...\n",
      "Loading J...\n",
      "Loading K...\n",
      "Loading L...\n",
      "Loading M...\n",
      "Loading N...\n",
      "Loading nothing...\n",
      "Loading O...\n",
      "Loading P...\n",
      "Loading Q...\n",
      "Loading R...\n",
      "Loading S...\n",
      "Loading space...\n",
      "Loading T...\n",
      "Loading U...\n",
      "Loading V...\n",
      "Loading W...\n",
      "Loading X...\n",
      "Loading Y...\n",
      "Loading Z...\n",
      "Loaded 87000 training images across 29 classes.\n",
      "Loaded 28 test images across 28 labels.\n",
      "Loaded dataset_loader from: e:\\Ashwin\\importantFiles\\Programming Projects\\WASL-translator\\src\\utils\\dataset_loader.py\n",
      "Train label set: ['a', 'b', 'c', 'd', 'del', 'e', 'f', 'g', 'h', 'i', 'j', 'k', 'l', 'm', 'n', 'nothing', 'o', 'p', 'q', 'r', 's', 'space', 't', 'u', 'v', 'w', 'x', 'y', 'z']\n",
      "Test label set: ['a', 'b', 'c', 'd', 'e', 'f', 'g', 'h', 'i', 'j', 'k', 'l', 'm', 'n', 'nothing', 'o', 'p', 'q', 'r', 's', 'space', 't', 'u', 'v', 'w', 'x', 'y', 'z']\n",
      "Unseen in test: set()\n"
     ]
    }
   ],
   "source": [
    "# Import dataset loader\n",
    "import sys, os\n",
    "sys.path.append(os.path.abspath(\"../src\"))\n",
    "\n",
    "from utils.dataset_loader import load_dataset\n",
    "\n",
    "# Load raw data\n",
    "root_dir = \"../data/raw\"\n",
    "X_train, y_train, X_test, y_test = load_dataset(root_dir)\n"
   ]
  },
  {
   "cell_type": "markdown",
   "id": "0d456eb2",
   "metadata": {},
   "source": [
    "### 2. Preprocess data\n",
    "Resize and convert to grayscale --> (Optional Gaussian Blur) --> Select Edge Detector --> (Optional Otsu Thresholding) --> Normalise --> Label Encoding\n"
   ]
  },
  {
   "cell_type": "markdown",
   "id": "c73063ca",
   "metadata": {},
   "source": [
    "##### 2.1 Preprocessing Functions"
   ]
  },
  {
   "cell_type": "code",
   "execution_count": 28,
   "id": "d52ee9e4",
   "metadata": {},
   "outputs": [],
   "source": [
    "import cv2\n",
    "import numpy as np\n",
    "from sklearn.preprocessing import LabelEncoder\n",
    "\n",
    "def resize_grayscale(images, target_size=(64, 64), grayscale=True):\n",
    "    processed = []\n",
    "    for img in images:\n",
    "        # Resize to 64x64 pixels square using weighted average\n",
    "        img = cv2.resize(img, target_size)\n",
    "        # Convert to grayscale to save space and reduce complexity\n",
    "        if grayscale:\n",
    "            img = cv2.cvtColor(img, cv2.COLOR_BGR2GRAY)\n",
    "            img = np.expand_dims(img, axis=-1)\n",
    "\n",
    "        processed.append(img)\n",
    "    return np.array(processed)\n",
    "\n",
    "# Give labels numerical values\n",
    "def encode_labels(labels):\n",
    "\n",
    "    encoder = LabelEncoder()\n",
    "    encoded = encoder.fit_transform(labels)\n",
    "    return encoded, encoder\n",
    "\n",
    "def edge_detector(img, method=\"none\"):\n",
    "\n",
    "    if method == \"sobel\":\n",
    "        # use 64bit float to keep negative gradients 3 kernels to keep a localised window, combine with magnitude\n",
    "        gx = cv2.Sobel(img, cv2.CV_64F, 1, 0, ksize=3)\n",
    "        gy = cv2.Sobel(img, cv2.CV_64F, 0, 1, ksize=3)\n",
    "        img = cv2.magnitude(gx, gy)\n",
    "\n",
    "    elif method == \"prewitt\":\n",
    "        # manually create 3x3 kernel and apply it with filter2D, use magnitude to combine\n",
    "        kernelx = np.array([[1, 0, -1], [1, 0, -1], [1, 0, -1]])\n",
    "        kernely = np.array([[1, 1, 1], [0, 0, 0], [-1, -1, -1]])\n",
    "        gx = cv2.filter2D(img, -1, kernelx)\n",
    "        gy = cv2.filter2D(img, -1, kernely)\n",
    "        img = cv2.magnitude(gx.astype(np.float32), gy.astype(np.float32))\n",
    "\n",
    "    elif method == \"roberts\":\n",
    "        # manually create 2x2 kernel and apply it with filter2D, use magnitude to combine\n",
    "        kernelx = np.array([[1, 0], [0, -1]])\n",
    "        kernely = np.array([[0, 1], [-1, 0]])\n",
    "        gx = cv2.filter2D(img, -1, kernelx)\n",
    "        gy = cv2.filter2D(img, -1, kernely)\n",
    "        img = cv2.magnitude(gx.astype(np.float32), gy.astype(np.float32))\n",
    "\n",
    "    return img\n",
    "\n",
    "def threshold_otsu(img):\n",
    "    # normalise to uint8 (for 0-255), ignore first return value\n",
    "    img_uint8 = (img * 255).astype(np.uint8)\n",
    "    _, img_thresh = cv2.threshold(img_uint8, 0, 255, cv2.THRESH_BINARY + cv2.THRESH_OTSU)\n",
    "    img_thresh = img_thresh.astype(np.float32) / 255.0\n",
    "    return img_thresh\n",
    "\n",
    "def gaussian_blur(img, kernel_size=(5, 5), sigma=0):\n",
    "    return cv2.GaussianBlur(img, kernel_size, sigma)\n",
    "\n"
   ]
  },
  {
   "cell_type": "markdown",
   "id": "064d2c86",
   "metadata": {},
   "source": [
    "##### 2.2 Perform Preprocessing"
   ]
  },
  {
   "cell_type": "code",
   "execution_count": 75,
   "id": "2fc8bab2",
   "metadata": {},
   "outputs": [
    {
     "name": "stdout",
     "output_type": "stream",
     "text": [
      "transform and converted to grayscale\n"
     ]
    }
   ],
   "source": [
    "# Run this cell first\n",
    "X_train_transform = resize_grayscale(X_train, target_size=(64,64))\n",
    "X_test_transform  = resize_grayscale(X_test,  target_size=(64,64))\n",
    "X_train_proc, X_test_proc = X_train_transform, X_test_transform\n",
    "print(\"transform and converted to grayscale\")\n"
   ]
  },
  {
   "cell_type": "code",
   "execution_count": null,
   "id": "191652e1",
   "metadata": {},
   "outputs": [],
   "source": [
    "# Gaussian Blur\n",
    "use_gaussian_blur = True\n",
    "if use_gaussian_blur:\n",
    "    X_train_proc = np.array([gaussian_blur(img) for img in X_train_proc])\n",
    "    X_test_proc  = np.array([gaussian_blur(img) for img in X_test_proc])\n",
    "    print(\"Gaussian blur applied\")\n",
    "else:\n",
    "    print(\"Gaussian blur not applied\")"
   ]
  },
  {
   "cell_type": "code",
   "execution_count": 76,
   "id": "70fd220f",
   "metadata": {},
   "outputs": [
    {
     "name": "stdout",
     "output_type": "stream",
     "text": [
      "Edge detection applied: roberts\n"
     ]
    }
   ],
   "source": [
    "# Change to required edge detection method\n",
    "edge_method = \"roberts\"  # \"none\", \"sobel\", \"prewitt\", \"roberts\"\n",
    "if edge_method != \"none\":\n",
    "    X_train_proc = np.array([edge_detector(img, method=edge_method) for img in X_train_proc])\n",
    "    X_test_proc  = np.array([edge_detector(img, method=edge_method) for img in X_test_proc])\n",
    "    print(f\"Edge detection applied: {edge_method}\")\n",
    "else:\n",
    "    print(\"No edge detection applied\")"
   ]
  },
  {
   "cell_type": "code",
   "execution_count": null,
   "id": "96341faa",
   "metadata": {},
   "outputs": [],
   "source": [
    "apply_otsu = True\n",
    "if apply_otsu:\n",
    "    X_train_proc = np.array([threshold_otsu(img) for img in X_train_proc])\n",
    "    X_test_proc  = np.array([threshold_otsu(img) for img in X_test_proc])\n",
    "    print(\"Otsu threshold applied\")\n",
    "else:\n",
    "    print(\"No Otsu threshold applied\")"
   ]
  },
  {
   "cell_type": "code",
   "execution_count": 77,
   "id": "03b71016",
   "metadata": {},
   "outputs": [
    {
     "name": "stdout",
     "output_type": "stream",
     "text": [
      "Normalised with shape: (87000, 64, 64, 1)\n"
     ]
    }
   ],
   "source": [
    "# Run this always to add back channel then normalize to 0–1\n",
    "if X_train_proc.ndim == 3:\n",
    "    X_train_proc = np.expand_dims(X_train_proc, axis=-1)\n",
    "    X_test_proc = np.expand_dims(X_test_proc, axis=-1)\n",
    "\n",
    "\n",
    "X_train_final = X_train_proc.astype(\"float32\") / 255.0\n",
    "X_test_final  = X_test_proc.astype(\"float32\") / 255.0\n",
    "print(\"Normalised with shape:\", X_train_final.shape)"
   ]
  },
  {
   "cell_type": "code",
   "execution_count": 78,
   "id": "c9640e08",
   "metadata": {},
   "outputs": [
    {
     "name": "stdout",
     "output_type": "stream",
     "text": [
      "Labels encoded\n"
     ]
    }
   ],
   "source": [
    "# Run this always to encode labels\n",
    "y_train_enc, label_encoder = encode_labels(y_train)\n",
    "y_test_enc = label_encoder.transform(y_test)\n",
    "print(\"Labels encoded\")"
   ]
  },
  {
   "cell_type": "code",
   "execution_count": 79,
   "id": "fced0784",
   "metadata": {},
   "outputs": [
    {
     "name": "stdout",
     "output_type": "stream",
     "text": [
      "Label encoder saved!\n"
     ]
    }
   ],
   "source": [
    "# Save the label encoder for future use\n",
    "import joblib\n",
    "joblib.dump(label_encoder, \"../data/processed/label_encoder.pkl\")\n",
    "print(\"Label encoder saved!\")"
   ]
  },
  {
   "cell_type": "code",
   "execution_count": 80,
   "id": "4e4f2ab7",
   "metadata": {},
   "outputs": [
    {
     "name": "stdout",
     "output_type": "stream",
     "text": [
      "Saved processed datasets\n"
     ]
    }
   ],
   "source": [
    "# Save processed data to be used for model\n",
    "np.save(\"../data/processed/X_train_processed.npy\", X_train_final)\n",
    "np.save(\"../data/processed/X_test_processed.npy\", X_test_final)\n",
    "np.save(\"../data/processed/y_train_encoded.npy\", y_train_enc)\n",
    "np.save(\"../data/processed/y_test_encoded.npy\", y_test_enc)\n",
    "\n",
    "print(\"Saved processed datasets\")"
   ]
  },
  {
   "cell_type": "markdown",
   "id": "216487b5",
   "metadata": {},
   "source": [
    "### 3. Save processed data and Show example imgs\n",
    "Saved into: .../data/processed/"
   ]
  },
  {
   "cell_type": "markdown",
   "id": "6d55878b",
   "metadata": {},
   "source": [
    "##### 3.1 Visualise Function"
   ]
  },
  {
   "cell_type": "code",
   "execution_count": 64,
   "id": "59e4213e",
   "metadata": {},
   "outputs": [],
   "source": [
    "import matplotlib.pyplot as plt\n",
    "import numpy as np\n",
    "import cv2, os\n",
    "\n",
    "def show_custom_samples(images, labels, label_encoder, special_classes=[\"nothing\", \"del\", \"space\"], num_alpha=2):\n",
    "    classes = label_encoder.inverse_transform(range(len(label_encoder.classes_)))\n",
    "\n",
    "    # Convert label integers back to text\n",
    "    text_labels = label_encoder.inverse_transform(labels)\n",
    "\n",
    "    selected_indices = []\n",
    "\n",
    "    # Grab 1 from each special class\n",
    "    for sc in special_classes:\n",
    "        idx = np.where(text_labels == sc)[0]\n",
    "        if len(idx) > 0:\n",
    "            selected_indices.append(idx[0])\n",
    "\n",
    "    # Get alphabet classes (exclude special)\n",
    "    alphabet_classes = [c for c in classes if c not in special_classes]\n",
    "\n",
    "    # Pick 2 letters (first two alphabet classes)\n",
    "    picked_letters = alphabet_classes[:num_alpha]\n",
    "\n",
    "    for letter in picked_letters:\n",
    "        idx = np.where(text_labels == letter)[0]\n",
    "        if len(idx) > 0:\n",
    "            selected_indices.append(idx[0])\n",
    "\n",
    "    # Plot\n",
    "    plt.figure(figsize=(12, 4))\n",
    "    for i, idx in enumerate(selected_indices):\n",
    "        img = images[idx]\n",
    "        if img.ndim == 3 and img.shape[-1] == 1:\n",
    "            img = img.squeeze()\n",
    "\n",
    "        plt.subplot(1, len(selected_indices), i + 1)\n",
    "        plt.imshow(img, cmap=\"gray\")\n",
    "        plt.title(text_labels[idx])\n",
    "        plt.axis(\"off\")\n",
    "\n",
    "    plt.show()\n",
    "    \n",
    "\n",
    "def save_custom_samples(images, labels, label_encoder, out_dir=\"preview_5\"):\n",
    "    os.makedirs(out_dir, exist_ok=True)\n",
    "\n",
    "    classes = label_encoder.inverse_transform(range(len(label_encoder.classes_)))\n",
    "    text_labels = label_encoder.inverse_transform(labels)\n",
    "\n",
    "    selected = []\n",
    "    for cls in [\"nothing\", \"del\", \"space\"]:\n",
    "        idx = np.where(text_labels == cls)[0]\n",
    "        if len(idx) > 0:\n",
    "            selected.append(idx[0])\n",
    "\n",
    "    alpha_classes = [c for c in classes if c not in [\"nothing\", \"del\", \"space\"]]\n",
    "    for cls in alpha_classes[:2]:\n",
    "        idx = np.where(text_labels == cls)[0]\n",
    "        if len(idx) > 0:\n",
    "            selected.append(idx[0])\n",
    "\n",
    "    for idx in selected:\n",
    "        img = images[idx]\n",
    "        name = text_labels[idx]\n",
    "        if img.ndim == 3 and img.shape[-1] == 1:\n",
    "            img = img.squeeze()\n",
    "\n",
    "        # invert so white hand = white hand (same as plt)\n",
    "        img_uint8 = (img * 255).astype(np.uint8)\n",
    "        img_uint8 = 255 - img_uint8\n",
    "        cv2.imwrite(os.path.join(out_dir, f\"{name}.png\"), img_uint8)\n",
    "\n",
    "    print(f\"Saved 5 samples to {out_dir}/\")\n",
    "\n",
    "def save_edge_samples(images, labels, label_encoder, out_dir=\"preview_edges\"):\n",
    "    os.makedirs(out_dir, exist_ok=True)\n",
    "\n",
    "    classes = label_encoder.inverse_transform(range(len(label_encoder.classes_)))\n",
    "    text_labels = label_encoder.inverse_transform(labels)\n",
    "\n",
    "    # pick 3 special + 2 alphabet samples\n",
    "    selected = []\n",
    "    for cls in [\"nothing\", \"del\", \"space\"]:\n",
    "        idx = np.where(text_labels == cls)[0]\n",
    "        if len(idx) > 0:\n",
    "            selected.append(idx[0])\n",
    "\n",
    "    alpha_classes = [c for c in classes if c not in [\"nothing\", \"del\", \"space\"]]\n",
    "    for cls in alpha_classes[:2]:\n",
    "        idx = np.where(text_labels == cls)[0]\n",
    "        if len(idx) > 0:\n",
    "            selected.append(idx[0])\n",
    "\n",
    "    for idx in selected:\n",
    "        img = images[idx]\n",
    "        label = text_labels[idx]\n",
    "\n",
    "        # squeeze (N,64,64,1) → (64,64)\n",
    "        if img.ndim == 3 and img.shape[-1] == 1:\n",
    "            img = img.squeeze()\n",
    "\n",
    "        # Normalize for edge maps (handles negative Sobel values too)\n",
    "        img_norm = cv2.normalize(img, None, 0, 255, cv2.NORM_MINMAX)\n",
    "        img_uint8 = img_norm.astype(np.uint8)\n",
    "\n",
    "        cv2.imwrite(os.path.join(out_dir, f\"{label}.png\"), img_uint8)\n",
    "\n",
    "    print(f\"Saved 5 edge images to {out_dir}/\")\n",
    "\n"
   ]
  },
  {
   "cell_type": "markdown",
   "id": "05534802",
   "metadata": {},
   "source": [
    "##### 3.2 Generate and Save Images"
   ]
  },
  {
   "cell_type": "code",
   "execution_count": 81,
   "id": "69830f37",
   "metadata": {},
   "outputs": [
    {
     "data": {
      "image/png": "[encoded data removed]",
      "text/plain": [
       "<Figure size 1200x400 with 5 Axes>"
      ]
     },
     "metadata": {},
     "output_type": "display_data"
    }
   ],
   "source": [
    "show_custom_samples(X_train_proc, y_train_enc, label_encoder)"
   ]
  },
  {
   "cell_type": "code",
   "execution_count": 74,
   "id": "9345299f",
   "metadata": {},
   "outputs": [
    {
     "name": "stdout",
     "output_type": "stream",
     "text": [
      "Saved 5 samples to preview_5/\n"
     ]
    }
   ],
   "source": [
    "save_custom_samples(X_train_proc, y_train_enc, label_encoder)"
   ]
  },
  {
   "cell_type": "markdown",
   "id": "7f6b5a2b",
   "metadata": {},
   "source": [
    "##### Use this to save any edge detector runs"
   ]
  },
  {
   "cell_type": "code",
   "execution_count": 82,
   "id": "31be2208",
   "metadata": {},
   "outputs": [
    {
     "name": "stdout",
     "output_type": "stream",
     "text": [
      "Saved 5 edge images to preview_edges/\n"
     ]
    }
   ],
   "source": [
    "save_edge_samples(X_train_proc, y_train_enc, label_encoder)"
   ]
  }
 ],
 "metadata": {
  "kernelspec": {
   "display_name": "venv",
   "language": "python",
   "name": "python3"
  },
  "language_info": {
   "codemirror_mode": {
    "name": "ipython",
    "version": 3
   },
   "file_extension": ".py",
   "mimetype": "text/x-python",
   "name": "python",
   "nbconvert_exporter": "python",
   "pygments_lexer": "ipython3",
   "version": "3.11.0"
  }
 },
 "nbformat": 4,
 "nbformat_minor": 5
}
